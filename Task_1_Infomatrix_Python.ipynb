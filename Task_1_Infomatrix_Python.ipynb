{
 "cells": [
  {
   "cell_type": "markdown",
   "metadata": {},
   "source": [
    "Varun Gupta's Week 1 Task"
   ]
  },
  {
   "cell_type": "markdown",
   "metadata": {},
   "source": [
    "Q-1. Write a Python Program to demonstrate: -\n",
    "\n",
    "\n",
    "\n",
    "i. Access the last element in a dictionary and print its key and value\n",
    "\n",
    "\n",
    "\n",
    "\n",
    "\n",
    "\n",
    "\n",
    "ii. take these 2 lists, keys = ['Ten', 'Twenty', 'Thirty'] , values = [10, 20, 30]\n",
    "Convert into a dictionary (hint there is an inbuilt function)\n",
    "\n",
    "\n",
    "\n",
    "\n",
    "\n",
    "\n",
    "\n",
    "\n",
    "\n",
    "\n",
    "\n",
    "\n",
    "\n",
    "iii. Slice list to take middle five characters of a string. Use slicing operator(colon)"
   ]
  },
  {
   "cell_type": "code",
   "execution_count": 66,
   "metadata": {},
   "outputs": [
    {
     "name": "stdout",
     "output_type": "stream",
     "text": [
      "Last key: Five, Last value: 5\n"
     ]
    }
   ],
   "source": [
    "#(i)\n",
    "\n",
    "my_dictionary = {'One': 1, 'Two': 2, 'Threec': 3, 'Four': 4, 'Five': 5}\n",
    "last_key, last_value = my_dictionary.popitem()\n",
    "print(f\"Last key: {last_key}, Last value: {last_value}\")"
   ]
  },
  {
   "cell_type": "code",
   "execution_count": 1,
   "metadata": {},
   "outputs": [
    {
     "name": "stdout",
     "output_type": "stream",
     "text": [
      "{'Ten': 10, 'Twenty': 20, 'Thirty': 30}\n"
     ]
    }
   ],
   "source": [
    "#(ii)\n",
    "\n",
    "key = ['Ten', 'Twenty', 'Thirty']\n",
    "value = [10, 20, 30]\n",
    "\n",
    "result_dict = dict(zip(key, value))\n",
    "print(result_dict)"
   ]
  },
  {
   "cell_type": "code",
   "execution_count": 11,
   "metadata": {},
   "outputs": [
    {
     "name": "stdout",
     "output_type": "stream",
     "text": [
      "The middle five characters of a string are: run20\n"
     ]
    }
   ],
   "source": [
    "#(iii)\n",
    "\n",
    "my_String = \"Varun2005\"\n",
    "print(\"The middle five characters of a string are:\",my_String[2:7])"
   ]
  },
  {
   "cell_type": "markdown",
   "metadata": {},
   "source": [
    "Q-2. Use String operations, make the following changes-\n",
    "\n",
    "\n",
    "i. Replace {Space} in the string with {$} sign\n",
    "\n",
    "\n",
    "ii. Insert a character at the first position of the string using appropriate function\n",
    "\n",
    "\n",
    "iii. Print the second character of a string."
   ]
  },
  {
   "cell_type": "code",
   "execution_count": 12,
   "metadata": {},
   "outputs": [
    {
     "name": "stdout",
     "output_type": "stream",
     "text": [
      "Hello$World$How$are$You??\n"
     ]
    }
   ],
   "source": [
    "#(i)\n",
    "\n",
    "str_1 = \"Hello World How are You??\"\n",
    "print(str_1.replace(\" \", \"$\"))"
   ]
  },
  {
   "cell_type": "code",
   "execution_count": 14,
   "metadata": {},
   "outputs": [
    {
     "name": "stdout",
     "output_type": "stream",
     "text": [
      "Varun\n"
     ]
    }
   ],
   "source": [
    "#(ii)\n",
    "\n",
    "str_2 = \"arun\"\n",
    "print(\"V\"+str_2)"
   ]
  },
  {
   "cell_type": "code",
   "execution_count": 5,
   "metadata": {},
   "outputs": [
    {
     "name": "stdout",
     "output_type": "stream",
     "text": [
      "a\n"
     ]
    }
   ],
   "source": [
    "#(iii)\n",
    "\n",
    "str_3 = \"Varun\"\n",
    "print(str_3[1:2])"
   ]
  },
  {
   "cell_type": "markdown",
   "metadata": {},
   "source": [
    "Q-3. Write a Program to print the following pattern using for loop\n",
    "\n",
    "\n",
    "5 4 3 2 1\n",
    "\n",
    "\n",
    "5 4 3 2\n",
    "\n",
    "\n",
    "5 4 3\n",
    "\n",
    "\n",
    "5 4 \n",
    "\n",
    "\n",
    "5"
   ]
  },
  {
   "cell_type": "code",
   "execution_count": 10,
   "metadata": {},
   "outputs": [
    {
     "name": "stdout",
     "output_type": "stream",
     "text": [
      "5 4 3 2 1 \n",
      "\n",
      "5 4 3 2 \n",
      "\n",
      "5 4 3 \n",
      "\n",
      "5 4 \n",
      "\n",
      "5 \n",
      "\n"
     ]
    }
   ],
   "source": [
    "def pattern(n):\n",
    "    for i in range(0,n):\n",
    "        temp = n\n",
    "        for j in range(i+1,n+1):\n",
    "            print(temp,end=\" \")\n",
    "            temp -= 1\n",
    "        print(\"\\n\")\n",
    "pattern(5)"
   ]
  },
  {
   "cell_type": "markdown",
   "metadata": {},
   "source": [
    "Q-4. Write the following sequence using break and continue keywords both and for loop\n",
    "\n",
    "\n",
    "-1, -5, -13, -17,-25, -29"
   ]
  },
  {
   "cell_type": "code",
   "execution_count": 19,
   "metadata": {},
   "outputs": [
    {
     "name": "stdout",
     "output_type": "stream",
     "text": [
      "-1\n",
      "-5\n",
      "-13\n",
      "-17\n",
      "-25\n",
      "-29\n"
     ]
    }
   ],
   "source": [
    "for num in range(-1, -30, -4):\n",
    "    if num == -9 or num == -21:\n",
    "        continue\n",
    "    elif num < -29:\n",
    "        break\n",
    "    print(num)\n"
   ]
  },
  {
   "cell_type": "markdown",
   "metadata": {},
   "source": [
    "Q-5. Reverse a list temporarily without changing the original list. Take homogenous list."
   ]
  },
  {
   "cell_type": "code",
   "execution_count": 10,
   "metadata": {},
   "outputs": [
    {
     "name": "stdout",
     "output_type": "stream",
     "text": [
      "['Mon', 'Tue', 'Wed', 'Thu', 'Fri', 'Sat', 'Sun']\n"
     ]
    }
   ],
   "source": [
    "list_1 = ['Sun' , 'Sat' , 'Fri' , 'Thu' , 'Wed' , 'Tue' , 'Mon']\n",
    "rev_list = list(reversed(list_1))\n",
    "print(rev_list)"
   ]
  },
  {
   "cell_type": "markdown",
   "metadata": {},
   "source": [
    "Q-6. WAP to find whether a number is divisible by 5 or not by lambda function"
   ]
  },
  {
   "cell_type": "code",
   "execution_count": 42,
   "metadata": {},
   "outputs": [
    {
     "name": "stdout",
     "output_type": "stream",
     "text": [
      "123 is not divisible by 5.\n"
     ]
    }
   ],
   "source": [
    "divisible_by_5 = lambda num: num % 5 == 0\n",
    "\n",
    "n = int(input(\"Enter a number: \"))\n",
    "if divisible_by_5(n):\n",
    "    print(f\"{n} is divisible by 5.\")\n",
    "else:\n",
    "    print(f\"{n} is not divisible by 5.\")"
   ]
  },
  {
   "cell_type": "markdown",
   "metadata": {},
   "source": [
    "Q-7. WAP to create a function to calculate sum of squares nos from m to n range."
   ]
  },
  {
   "cell_type": "code",
   "execution_count": 49,
   "metadata": {},
   "outputs": [
    {
     "name": "stdout",
     "output_type": "stream",
     "text": [
      "The sum of squares from 1 to 10 is 385.\n"
     ]
    }
   ],
   "source": [
    "def sum_of_squares(m, n):\n",
    "    sum = 0\n",
    "    for i in range(m, n+1):\n",
    "        sum += i**2\n",
    "    return sum\n",
    "m = int(input(\"Enter the starting number: \"))\n",
    "n = int(input(\"Enter the ending number: \"))\n",
    "\n",
    "print(f\"The sum of squares from {m} to {n} is {sum_of_squares(m, n)}.\")"
   ]
  },
  {
   "cell_type": "markdown",
   "metadata": {},
   "source": [
    "Q-8. Write a program to calculate the sum of first 10 prime numbers using function and for loop. "
   ]
  },
  {
   "cell_type": "code",
   "execution_count": 65,
   "metadata": {},
   "outputs": [
    {
     "name": "stdout",
     "output_type": "stream",
     "text": [
      "The sum of the first 10 prime numbers is 129.\n"
     ]
    }
   ],
   "source": [
    "def sum_of_prime(m):\n",
    "    count, num, sum = 0, 2, 0\n",
    "    while count < m:\n",
    "        if prime(num):\n",
    "            sum += num\n",
    "            count += 1\n",
    "        num += 1\n",
    "    return sum\n",
    "\n",
    "def prime(n):\n",
    "    if n<2:\n",
    "        return False\n",
    "    for i in range(2,n):\n",
    "        if n%i==0:\n",
    "            return False\n",
    "    else:\n",
    "        return True\n",
    "\n",
    "print(f\"The sum of the first 10 prime numbers is {sum_of_prime(10)}.\")"
   ]
  }
 ],
 "metadata": {
  "kernelspec": {
   "display_name": "Python 3",
   "language": "python",
   "name": "python3"
  },
  "language_info": {
   "codemirror_mode": {
    "name": "ipython",
    "version": 3
   },
   "file_extension": ".py",
   "mimetype": "text/x-python",
   "name": "python",
   "nbconvert_exporter": "python",
   "pygments_lexer": "ipython3",
   "version": "3.12.3"
  }
 },
 "nbformat": 4,
 "nbformat_minor": 2
}
