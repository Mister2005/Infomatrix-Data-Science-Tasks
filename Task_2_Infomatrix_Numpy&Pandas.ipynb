{
 "cells": [
  {
   "cell_type": "markdown",
   "metadata": {},
   "source": [
    "# Task 2 of Varun Gupta"
   ]
  },
  {
   "cell_type": "markdown",
   "metadata": {},
   "source": [
    "# Q-1 Write a NumPy program to swap rows and columns of a given array in reverse order."
   ]
  },
  {
   "cell_type": "code",
   "execution_count": 1,
   "metadata": {},
   "outputs": [
    {
     "name": "stdout",
     "output_type": "stream",
     "text": [
      "The Original matrxix is: \n",
      " [[1 2 3]\n",
      " [4 5 6]\n",
      " [7 8 9]]\n",
      "The columnn edited matrix is: \n",
      " [[3 2 1]\n",
      " [6 5 4]\n",
      " [9 8 7]]\n",
      "The row edited matrix is: \n",
      " [[7 8 9]\n",
      " [4 5 6]\n",
      " [1 2 3]]\n",
      "The edited matrix is: \n",
      " [[9 8 7]\n",
      " [6 5 4]\n",
      " [3 2 1]]\n"
     ]
    }
   ],
   "source": [
    "#importing numpy library\n",
    "import numpy as np\n",
    "\n",
    "#Creating Original Array\n",
    "List_2D = [[1,2,3],[4,5,6],[7,8,9]]\n",
    "matrix = np.array(List_2D)\n",
    "print(\"The Original matrxix is: \\n\",matrix)\n",
    "\n",
    "#Performing Operations to swap columns in reverse order\n",
    "swap_columns = matrix[:,::-1]\n",
    "print(\"The columnn edited matrix is: \\n\",swap_columns)\n",
    "\n",
    "#Performing Operations to swap rows in reverse order\n",
    "swap_rows = matrix[::-1,:]\n",
    "print(\"The row edited matrix is: \\n\",swap_rows)\n",
    "\n",
    "#The combination of both the matrix is displayed here\n",
    "rev_matrix = matrix[::-1,::-1]\n",
    "print(\"The edited matrix is: \\n\",rev_matrix)"
   ]
  },
  {
   "cell_type": "markdown",
   "metadata": {},
   "source": [
    "# Q-2(a) - Write a NumPy program to find the most frequent value in an array.\n",
    "\n",
    "array:\n",
    "[6 9 5 1 4 6 7 8 9 8 7 1 7 5 1 0 1 5 5 0 8 9 0 7 0 7 6 5 1 1 9 5 3 8 7 9 \n",
    "6 3 4 5 9 7 2 7 0 2 2 6]"
   ]
  },
  {
   "cell_type": "code",
   "execution_count": 2,
   "metadata": {},
   "outputs": [
    {
     "name": "stdout",
     "output_type": "stream",
     "text": [
      "The most frequent value in the array is:  7\n"
     ]
    }
   ],
   "source": [
    "#importing numpy library\n",
    "import numpy as np\n",
    "list_1 = [6, 9, 5, 1, 4, 6, 7, 8, 9, 8, 7, 1, 7, 5, 1, 0, 1, 5, 5, 0, 8, 9, 0, 7, 0, 7, 6, 5, 1, 1, 9, 5, 3, 8, 7, 9, 6, 3, 4, 5, 9, 7, 2, 7, 0, 2, 2, 6]\n",
    "arr_1 = np.array(list_1)\n",
    "\n",
    "# Used Unique function of numpy library to count the occurence of each value and recording it\n",
    "value , occurence = np.unique(arr_1 , return_counts=True)\n",
    "\n",
    "# Calculated the most frequent value using argmax() function\n",
    "most_frequent_value = value[occurence.argmax()]\n",
    "print(\"The most frequent value in the array is: \", most_frequent_value)"
   ]
  },
  {
   "cell_type": "markdown",
   "metadata": {},
   "source": [
    "# (b)sort the frequent values in descending order"
   ]
  },
  {
   "cell_type": "code",
   "execution_count": 3,
   "metadata": {},
   "outputs": [
    {
     "name": "stdout",
     "output_type": "stream",
     "text": [
      "The sorted array(in decending order of frequencies) is displayed here:  [7 5 9 1 6 0 8 2 4 3]\n"
     ]
    }
   ],
   "source": [
    "# The sorted array with frequent values in decending order is displayed here\n",
    "sorted_arr_1 = value[occurence.argsort()[::-1]]\n",
    "print(\"The sorted array(in decending order of frequencies) is displayed here: \",sorted_arr_1)"
   ]
  },
  {
   "cell_type": "markdown",
   "metadata": {},
   "source": [
    "# Q-3 Write a Pandas Program to create a dataframe such that the column labels are Name, Rollnumber, Subject1, Subject2 and Total"
   ]
  },
  {
   "cell_type": "markdown",
   "metadata": {},
   "source": [
    "(i) Using Pandas function itself calculate the statistical summary(mean, median, mode, Quartiles, etc) of all the numerical columns."
   ]
  },
  {
   "cell_type": "code",
   "execution_count": 4,
   "metadata": {},
   "outputs": [
    {
     "name": "stdout",
     "output_type": "stream",
     "text": [
      "Original DataFrame:\n",
      "     Name  Rollnumber  Maths  JAVA  Total\n",
      "0   Varun          55     90    85    175\n",
      "1   Vansh          54     80    95    175\n",
      "2   Sohan          49     70    80    150\n",
      "3  Rajesh          43     95    90    185\n",
      "4    Yash          62     85    75    160\n",
      "\n",
      "Statistical Summary:\n",
      "Mean: \n",
      "\n",
      "Maths     84.0\n",
      "JAVA      85.0\n",
      "Total    169.0\n",
      "dtype: float64\n",
      "\n",
      "Median: \n",
      "\n",
      "Maths     85.0\n",
      "JAVA      85.0\n",
      "Total    175.0\n",
      "dtype: float64\n",
      "\n",
      "Mode: \n",
      "\n",
      "   Maths  JAVA  Total\n",
      "0     70    75  175.0\n",
      "1     80    80    NaN\n",
      "2     85    85    NaN\n",
      "3     90    90    NaN\n",
      "4     95    95    NaN\n",
      "\n",
      "Quantiles: \n",
      "\n",
      "Maths     85.0\n",
      "JAVA      85.0\n",
      "Total    175.0\n",
      "Name: 0.5, dtype: float64\n"
     ]
    }
   ],
   "source": [
    "#(i)\n",
    "\n",
    "import numpy as np\n",
    "import pandas as pd\n",
    "\n",
    "# Create a DataFrame\n",
    "data = {\n",
    "    'Name': ['Varun', 'Vansh', 'Sohan', 'Rajesh', 'Yash'],\n",
    "    'Rollnumber': [55 , 54 , 49 , 43 , 62],\n",
    "    'Maths': [90, 80, 70, 95, 85],\n",
    "    'JAVA': [85, 95, 80, 90, 75],\n",
    "    'Total': [175, 175, 150, 185, 160]\n",
    "}\n",
    "df = pd.DataFrame(data)\n",
    "\n",
    "print(\"Original DataFrame:\")\n",
    "print(df)\n",
    "\n",
    "# Calculate statistical summary of numerical columns\n",
    "print(\"\\nStatistical Summary:\")\n",
    "\n",
    "print(\"Mean: \\n\")\n",
    "print(df[[ 'Maths', 'JAVA', 'Total']].mean())\n",
    "\n",
    "print(\"\\nMedian: \\n\")\n",
    "print(df[[ 'Maths', 'JAVA', 'Total']].median())\n",
    "\n",
    "print(\"\\nMode: \\n\")\n",
    "print(df[[ 'Maths', 'JAVA', 'Total']].mode())\n",
    "\n",
    "print(\"\\nQuantiles: \\n\")\n",
    "print(df[[ 'Maths', 'JAVA', 'Total']].quantile())"
   ]
  },
  {
   "cell_type": "markdown",
   "metadata": {},
   "source": [
    "(ii) Sort the entire dataframe based on the alphabetical order."
   ]
  },
  {
   "cell_type": "code",
   "execution_count": 5,
   "metadata": {},
   "outputs": [
    {
     "name": "stdout",
     "output_type": "stream",
     "text": [
      "\n",
      "Sorted DataFrame:\n",
      "     Name  Rollnumber  Maths  JAVA  Total\n",
      "3  Rajesh          43     95    90    185\n",
      "2   Sohan          49     70    80    150\n",
      "1   Vansh          54     80    95    175\n",
      "0   Varun          55     90    85    175\n",
      "4    Yash          62     85    75    160\n"
     ]
    }
   ],
   "source": [
    "#(ii)\n",
    "\n",
    "# Sorting the DataFrame based on alphabetical order\n",
    "df = df.sort_values(by='Name')\n",
    "print(\"\\nSorted DataFrame:\")\n",
    "print(df)"
   ]
  },
  {
   "cell_type": "markdown",
   "metadata": {},
   "source": [
    "(iii) Change the dataset such that there are missing values and NAN values in the dataset and handle them appropriately."
   ]
  },
  {
   "cell_type": "code",
   "execution_count": 6,
   "metadata": {},
   "outputs": [
    {
     "name": "stdout",
     "output_type": "stream",
     "text": [
      "\n",
      "DataFrame with missing values:\n",
      "     Name  Rollnumber  Maths  JAVA  Total\n",
      "3  Rajesh          43   95.0   NaN    185\n",
      "2   Sohan          49   70.0  80.0    150\n",
      "1   Vansh          54    NaN  95.0    175\n",
      "0   Varun          55   90.0  85.0    175\n",
      "4    Yash          62   85.0  75.0    160\n",
      "\n",
      "DataFrame after handling missing values:\n",
      "     Name  Rollnumber  Maths  JAVA  Total\n",
      "3  Rajesh          43   95.0   0.0    185\n",
      "2   Sohan          49   70.0  80.0    150\n",
      "1   Vansh          54    0.0  95.0    175\n",
      "0   Varun          55   90.0  85.0    175\n",
      "4    Yash          62   85.0  75.0    160\n"
     ]
    }
   ],
   "source": [
    "#(iii)\n",
    "\n",
    "# Introducing missing values and NaN values\n",
    "df.loc[1, 'Maths'] = np.nan\n",
    "df.loc[3, 'JAVA'] = np.nan\n",
    "\n",
    "print(\"\\nDataFrame with missing values:\")\n",
    "print(df)\n",
    "\n",
    "\n",
    "# Handling missing values\n",
    "df.fillna(0, inplace=True)  # Replace NaN with Absent\n",
    "\n",
    "print(\"\\nDataFrame after handling missing values:\")\n",
    "print(df)"
   ]
  }
 ],
 "metadata": {
  "kernelspec": {
   "display_name": "Python 3",
   "language": "python",
   "name": "python3"
  },
  "language_info": {
   "codemirror_mode": {
    "name": "ipython",
    "version": 3
   },
   "file_extension": ".py",
   "mimetype": "text/x-python",
   "name": "python",
   "nbconvert_exporter": "python",
   "pygments_lexer": "ipython3",
   "version": "3.12.3"
  }
 },
 "nbformat": 4,
 "nbformat_minor": 2
}
